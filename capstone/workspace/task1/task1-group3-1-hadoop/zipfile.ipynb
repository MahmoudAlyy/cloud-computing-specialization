{
 "cells": [
  {
   "cell_type": "code",
   "execution_count": 20,
   "metadata": {
    "collapsed": false
   },
   "outputs": [
    {
     "name": "stderr",
     "output_type": "stream",
     "text": [
      "[WARNING] Failed to create connection pool for new host 52.90.194.70:\n",
      "Traceback (most recent call last):\n",
      "  File \"cassandra/cluster.py\", line 1787, in cassandra.cluster.Session.add_or_renew_pool.run_add_or_renew_pool (cassandra/cluster.c:30488)\n",
      "    new_pool = HostConnection(host, distance, self)\n",
      "  File \"cassandra/pool.py\", line 295, in cassandra.pool.HostConnection.__init__ (cassandra/pool.c:6160)\n",
      "    self._connection = session.cluster.connection_factory(host.address)\n",
      "  File \"cassandra/cluster.py\", line 789, in cassandra.cluster.Cluster.connection_factory (cassandra/cluster.c:9245)\n",
      "    return self.connection_class.factory(address, self.connect_timeout, *args, **kwargs)\n",
      "  File \"cassandra/connection.py\", line 306, in cassandra.connection.Connection.factory (cassandra/connection.c:5139)\n",
      "    conn = cls(host, *args, **kwargs)\n",
      "  File \"/usr/local/lib/python2.7/dist-packages/cassandra/io/asyncorereactor.py\", line 162, in __init__\n",
      "    self._connect_socket()\n",
      "  File \"cassandra/connection.py\", line 340, in cassandra.connection.Connection._connect_socket (cassandra/connection.c:6271)\n",
      "    raise socket.error(sockerr.errno, \"Tried connecting to %s. Last error: %s\" % ([a[4] for a in addresses], sockerr.strerror or sockerr))\n",
      "error: [Errno None] Tried connecting to [('52.90.194.70', 9042)]. Last error: timed out\n",
      "[WARNING] Host 52.90.194.70 has been marked down\n",
      "[WARNING] Failed to create connection pool for new host 52.90.76.138:\n",
      "Traceback (most recent call last):\n",
      "  File \"cassandra/cluster.py\", line 1787, in cassandra.cluster.Session.add_or_renew_pool.run_add_or_renew_pool (cassandra/cluster.c:30488)\n",
      "    new_pool = HostConnection(host, distance, self)\n",
      "  File \"cassandra/pool.py\", line 295, in cassandra.pool.HostConnection.__init__ (cassandra/pool.c:6160)\n",
      "    self._connection = session.cluster.connection_factory(host.address)\n",
      "  File \"cassandra/cluster.py\", line 789, in cassandra.cluster.Cluster.connection_factory (cassandra/cluster.c:9245)\n",
      "    return self.connection_class.factory(address, self.connect_timeout, *args, **kwargs)\n",
      "  File \"cassandra/connection.py\", line 306, in cassandra.connection.Connection.factory (cassandra/connection.c:5139)\n",
      "    conn = cls(host, *args, **kwargs)\n",
      "  File \"/usr/local/lib/python2.7/dist-packages/cassandra/io/asyncorereactor.py\", line 162, in __init__\n",
      "    self._connect_socket()\n",
      "  File \"cassandra/connection.py\", line 340, in cassandra.connection.Connection._connect_socket (cassandra/connection.c:6271)\n",
      "    raise socket.error(sockerr.errno, \"Tried connecting to %s. Last error: %s\" % ([a[4] for a in addresses], sockerr.strerror or sockerr))\n",
      "error: [Errno None] Tried connecting to [('52.90.76.138', 9042)]. Last error: timed out\n",
      "[WARNING] Host 52.90.76.138 has been marked down\n",
      "[WARNING] Error attempting to reconnect to 52.90.194.70, scheduling retry in 2.0 seconds: [Errno None] Tried connecting to [('52.90.194.70', 9042)]. Last error: timed out\n",
      "[WARNING] Error attempting to reconnect to 52.90.76.138, scheduling retry in 2.0 seconds: [Errno None] Tried connecting to [('52.90.76.138', 9042)]. Last error: timed out\n",
      "[WARNING] Error attempting to reconnect to 172.31.59.247, scheduling retry in 600.0 seconds: [Errno None] Tried connecting to [('172.31.59.247', 9042)]. Last error: timed out\n",
      "[WARNING] Error attempting to reconnect to 52.90.194.70, scheduling retry in 4.0 seconds: [Errno None] Tried connecting to [('52.90.194.70', 9042)]. Last error: timed out\n",
      "[WARNING] Error attempting to reconnect to 52.90.76.138, scheduling retry in 4.0 seconds: [Errno None] Tried connecting to [('52.90.76.138', 9042)]. Last error: timed out\n",
      "[WARNING] Error attempting to reconnect to 52.90.194.70, scheduling retry in 8.0 seconds: [Errno None] Tried connecting to [('52.90.194.70', 9042)]. Last error: timed out\n",
      "[WARNING] Error attempting to reconnect to 52.90.76.138, scheduling retry in 8.0 seconds: [Errno None] Tried connecting to [('52.90.76.138', 9042)]. Last error: timed out\n",
      "[WARNING] Error attempting to reconnect to 52.90.194.70, scheduling retry in 16.0 seconds: [Errno None] Tried connecting to [('52.90.194.70', 9042)]. Last error: timed out\n",
      "[WARNING] Error attempting to reconnect to 52.90.76.138, scheduling retry in 16.0 seconds: [Errno None] Tried connecting to [('52.90.76.138', 9042)]. Last error: timed out\n",
      "[WARNING] Error attempting to reconnect to 52.90.194.70, scheduling retry in 600.0 seconds: [Errno None] Tried connecting to [('52.90.194.70', 9042)]. Last error: timed out\n",
      "[WARNING] Error attempting to reconnect to 52.90.76.138, scheduling retry in 600.0 seconds: [Errno None] Tried connecting to [('52.90.76.138', 9042)]. Last error: timed out\n"
     ]
    }
   ],
   "source": [
    "from cassandra.cluster import Cluster\n",
    "from cassandra.auth import PlainTextAuthProvider\n",
    "\n",
    "auth_provider = PlainTextAuthProvider(username='cassandra', password='cassandra')\n",
    "cluster = Cluster(\n",
    "    contact_points=['52.91.166.84'],\n",
    "    auth_provider = auth_provider\n",
    ")\n",
    "\n",
    "session = cluster.connect('capstone')"
   ]
  },
  {
   "cell_type": "code",
   "execution_count": 7,
   "metadata": {
    "collapsed": false
   },
   "outputs": [
    {
     "name": "stderr",
     "output_type": "stream",
     "text": [
      "[INFO] \u001b[1;32m1454680666 : INFO:     (initialize_globals_from_environment:282): Setting configuration variable GRAPHLAB_FILEIO_ALTERNATIVE_SSL_CERT_FILE to /usr/local/lib/python2.7/dist-packages/certifi/cacert.pem\n",
      "\u001b[0m\u001b[1;32m1454680666 : INFO:     (initialize_globals_from_environment:282): Setting configuration variable GRAPHLAB_FILEIO_ALTERNATIVE_SSL_CERT_DIR to \n",
      "\u001b[0mThis non-commercial license of GraphLab Create is assigned to kgrodzicki@gmail.com and will expire on October 14, 2016. For commercial licensing options, visit https://dato.com/buy/.\n",
      "\n",
      "[INFO] Start server at: ipc:///tmp/graphlab_server-51 - Server binary: /usr/local/lib/python2.7/dist-packages/graphlab/unity_server - Server log: /tmp/graphlab_server_1454680666.log\n",
      "[INFO] GraphLab Server Version: 1.7.1\n"
     ]
    },
    {
     "data": {
      "text/html": [
       "<div style=\"max-height:1000px;max-width:1500px;overflow:auto;\"><table frame=\"box\" rules=\"cols\">\n",
       "    <tr>\n",
       "        <th style=\"padding-left: 1em; padding-right: 1em; text-align: center\">id</th>\n",
       "        <th style=\"padding-left: 1em; padding-right: 1em; text-align: center\">touple</th>\n",
       "        <th style=\"padding-left: 1em; padding-right: 1em; text-align: center\">popularity</th>\n",
       "        <th style=\"padding-left: 1em; padding-right: 1em; text-align: center\">rank</th>\n",
       "    </tr>\n",
       "    <tr>\n",
       "        <td style=\"padding-left: 1em; padding-right: 1em; text-align: center; vertical-align: top\">0</td>\n",
       "        <td style=\"padding-left: 1em; padding-right: 1em; text-align: center; vertical-align: top\">[ATL, 58187766]</td>\n",
       "        <td style=\"padding-left: 1em; padding-right: 1em; text-align: center; vertical-align: top\">58187766</td>\n",
       "        <td style=\"padding-left: 1em; padding-right: 1em; text-align: center; vertical-align: top\">1</td>\n",
       "    </tr>\n",
       "    <tr>\n",
       "        <td style=\"padding-left: 1em; padding-right: 1em; text-align: center; vertical-align: top\">1</td>\n",
       "        <td style=\"padding-left: 1em; padding-right: 1em; text-align: center; vertical-align: top\">[DEN, 31219499]</td>\n",
       "        <td style=\"padding-left: 1em; padding-right: 1em; text-align: center; vertical-align: top\">31219499</td>\n",
       "        <td style=\"padding-left: 1em; padding-right: 1em; text-align: center; vertical-align: top\">2</td>\n",
       "    </tr>\n",
       "    <tr>\n",
       "        <td style=\"padding-left: 1em; padding-right: 1em; text-align: center; vertical-align: top\">2</td>\n",
       "        <td style=\"padding-left: 1em; padding-right: 1em; text-align: center; vertical-align: top\">[LAX, 25452018]</td>\n",
       "        <td style=\"padding-left: 1em; padding-right: 1em; text-align: center; vertical-align: top\">25452018</td>\n",
       "        <td style=\"padding-left: 1em; padding-right: 1em; text-align: center; vertical-align: top\">3</td>\n",
       "    </tr>\n",
       "    <tr>\n",
       "        <td style=\"padding-left: 1em; padding-right: 1em; text-align: center; vertical-align: top\">3</td>\n",
       "        <td style=\"padding-left: 1em; padding-right: 1em; text-align: center; vertical-align: top\">[CLT, 24276984]</td>\n",
       "        <td style=\"padding-left: 1em; padding-right: 1em; text-align: center; vertical-align: top\">24276984</td>\n",
       "        <td style=\"padding-left: 1em; padding-right: 1em; text-align: center; vertical-align: top\">4</td>\n",
       "    </tr>\n",
       "    <tr>\n",
       "        <td style=\"padding-left: 1em; padding-right: 1em; text-align: center; vertical-align: top\">4</td>\n",
       "        <td style=\"padding-left: 1em; padding-right: 1em; text-align: center; vertical-align: top\">[PHX, 21864094]</td>\n",
       "        <td style=\"padding-left: 1em; padding-right: 1em; text-align: center; vertical-align: top\">21864094</td>\n",
       "        <td style=\"padding-left: 1em; padding-right: 1em; text-align: center; vertical-align: top\">5</td>\n",
       "    </tr>\n",
       "    <tr>\n",
       "        <td style=\"padding-left: 1em; padding-right: 1em; text-align: center; vertical-align: top\">5</td>\n",
       "        <td style=\"padding-left: 1em; padding-right: 1em; text-align: center; vertical-align: top\">[SFO, 18537961]</td>\n",
       "        <td style=\"padding-left: 1em; padding-right: 1em; text-align: center; vertical-align: top\">18537961</td>\n",
       "        <td style=\"padding-left: 1em; padding-right: 1em; text-align: center; vertical-align: top\">6</td>\n",
       "    </tr>\n",
       "    <tr>\n",
       "        <td style=\"padding-left: 1em; padding-right: 1em; text-align: center; vertical-align: top\">6</td>\n",
       "        <td style=\"padding-left: 1em; padding-right: 1em; text-align: center; vertical-align: top\">[SLC, 16124346]</td>\n",
       "        <td style=\"padding-left: 1em; padding-right: 1em; text-align: center; vertical-align: top\">16124346</td>\n",
       "        <td style=\"padding-left: 1em; padding-right: 1em; text-align: center; vertical-align: top\">7</td>\n",
       "    </tr>\n",
       "    <tr>\n",
       "        <td style=\"padding-left: 1em; padding-right: 1em; text-align: center; vertical-align: top\">7</td>\n",
       "        <td style=\"padding-left: 1em; padding-right: 1em; text-align: center; vertical-align: top\">[SEA, 16069711]</td>\n",
       "        <td style=\"padding-left: 1em; padding-right: 1em; text-align: center; vertical-align: top\">16069711</td>\n",
       "        <td style=\"padding-left: 1em; padding-right: 1em; text-align: center; vertical-align: top\">8</td>\n",
       "    </tr>\n",
       "    <tr>\n",
       "        <td style=\"padding-left: 1em; padding-right: 1em; text-align: center; vertical-align: top\">8</td>\n",
       "        <td style=\"padding-left: 1em; padding-right: 1em; text-align: center; vertical-align: top\">[LAS, 15947830]</td>\n",
       "        <td style=\"padding-left: 1em; padding-right: 1em; text-align: center; vertical-align: top\">15947830</td>\n",
       "        <td style=\"padding-left: 1em; padding-right: 1em; text-align: center; vertical-align: top\">9</td>\n",
       "    </tr>\n",
       "    <tr>\n",
       "        <td style=\"padding-left: 1em; padding-right: 1em; text-align: center; vertical-align: top\">9</td>\n",
       "        <td style=\"padding-left: 1em; padding-right: 1em; text-align: center; vertical-align: top\">[BOS, 13285805]</td>\n",
       "        <td style=\"padding-left: 1em; padding-right: 1em; text-align: center; vertical-align: top\">13285805</td>\n",
       "        <td style=\"padding-left: 1em; padding-right: 1em; text-align: center; vertical-align: top\">10</td>\n",
       "    </tr>\n",
       "</table>\n",
       "[490 rows x 4 columns]<br/>Note: Only the head of the SFrame is printed.<br/>You can use print_rows(num_rows=m, num_columns=n) to print more rows and columns.\n",
       "</div>"
      ],
      "text/plain": [
       "Columns:\n",
       "\tid\tint\n",
       "\ttouple\tlist\n",
       "\tpopularity\tint\n",
       "\trank\tint\n",
       "\n",
       "Rows: 490\n",
       "\n",
       "Data:\n",
       "+----+-----------------+------------+------+\n",
       "| id |      touple     | popularity | rank |\n",
       "+----+-----------------+------------+------+\n",
       "| 0  | [ATL, 58187766] |  58187766  |  1   |\n",
       "| 1  | [DEN, 31219499] |  31219499  |  2   |\n",
       "| 2  | [LAX, 25452018] |  25452018  |  3   |\n",
       "| 3  | [CLT, 24276984] |  24276984  |  4   |\n",
       "| 4  | [PHX, 21864094] |  21864094  |  5   |\n",
       "| 5  | [SFO, 18537961] |  18537961  |  6   |\n",
       "| 6  | [SLC, 16124346] |  16124346  |  7   |\n",
       "| 7  | [SEA, 16069711] |  16069711  |  8   |\n",
       "| 8  | [LAS, 15947830] |  15947830  |  9   |\n",
       "| 9  | [BOS, 13285805] |  13285805  |  10  |\n",
       "+----+-----------------+------------+------+\n",
       "[490 rows x 4 columns]\n",
       "Note: Only the head of the SFrame is printed.\n",
       "You can use print_rows(num_rows=m, num_columns=n) to print more rows and columns."
      ]
     },
     "execution_count": 7,
     "metadata": {},
     "output_type": "execute_result"
    },
    {
     "name": "stderr",
     "output_type": "stream",
     "text": [
      "[WARNING] Error attempting to reconnect to 172.31.59.248, scheduling retry in 8.0 seconds: [Errno None] Tried connecting to [('172.31.59.248', 9042)]. Last error: timed out\n",
      "[WARNING] Error attempting to reconnect to 172.31.59.247, scheduling retry in 8.0 seconds: [Errno None] Tried connecting to [('172.31.59.247', 9042)]. Last error: timed out\n",
      "[WARNING] Error attempting to reconnect to 172.31.59.248, scheduling retry in 256.0 seconds: [Errno None] Tried connecting to [('172.31.59.248', 9042)]. Last error: timed out\n",
      "[WARNING] Error attempting to reconnect to 172.31.59.247, scheduling retry in 256.0 seconds: [Errno None] Tried connecting to [('172.31.59.247', 9042)]. Last error: timed out\n",
      "[WARNING] Error attempting to reconnect to 172.31.59.248, scheduling retry in 16.0 seconds: [Errno None] Tried connecting to [('172.31.59.248', 9042)]. Last error: timed out\n",
      "[WARNING] Error attempting to reconnect to 172.31.59.247, scheduling retry in 16.0 seconds: [Errno None] Tried connecting to [('172.31.59.247', 9042)]. Last error: timed out\n",
      "[WARNING] Error attempting to reconnect to 172.31.59.248, scheduling retry in 32.0 seconds: [Errno None] Tried connecting to [('172.31.59.248', 9042)]. Last error: timed out\n",
      "[WARNING] Error attempting to reconnect to 172.31.59.247, scheduling retry in 32.0 seconds: [Errno None] Tried connecting to [('172.31.59.247', 9042)]. Last error: timed out\n",
      "[WARNING] Error attempting to reconnect to 172.31.59.248, scheduling retry in 64.0 seconds: [Errno None] Tried connecting to [('172.31.59.248', 9042)]. Last error: timed out\n",
      "[WARNING] Error attempting to reconnect to 172.31.59.247, scheduling retry in 64.0 seconds: [Errno None] Tried connecting to [('172.31.59.247', 9042)]. Last error: timed out\n",
      "[WARNING] Error attempting to reconnect to 172.31.59.248, scheduling retry in 128.0 seconds: [Errno None] Tried connecting to [('172.31.59.248', 9042)]. Last error: timed out\n",
      "[WARNING] Error attempting to reconnect to 172.31.59.247, scheduling retry in 128.0 seconds: [Errno None] Tried connecting to [('172.31.59.247', 9042)]. Last error: timed out\n",
      "[WARNING] Error attempting to reconnect to 172.31.59.248, scheduling retry in 512.0 seconds: [Errno None] Tried connecting to [('172.31.59.248', 9042)]. Last error: timed out\n",
      "[WARNING] Error attempting to reconnect to 172.31.59.247, scheduling retry in 512.0 seconds: [Errno None] Tried connecting to [('172.31.59.247', 9042)]. Last error: timed out\n",
      "[WARNING] Error attempting to reconnect to 172.31.59.248, scheduling retry in 512.0 seconds: [Errno None] Tried connecting to [('172.31.59.248', 9042)]. Last error: timed out\n",
      "[WARNING] Error attempting to reconnect to 172.31.59.247, scheduling retry in 512.0 seconds: [Errno None] Tried connecting to [('172.31.59.247', 9042)]. Last error: timed out\n",
      "[WARNING] Error attempting to reconnect to 172.31.59.248, scheduling retry in 256.0 seconds: [Errno None] Tried connecting to [('172.31.59.248', 9042)]. Last error: timed out\n",
      "[WARNING] Error attempting to reconnect to 172.31.59.247, scheduling retry in 256.0 seconds: [Errno None] Tried connecting to [('172.31.59.247', 9042)]. Last error: timed out\n",
      "[WARNING] Error attempting to reconnect to 172.31.59.248, scheduling retry in 512.0 seconds: [Errno None] Tried connecting to [('172.31.59.248', 9042)]. Last error: timed out\n",
      "[WARNING] Error attempting to reconnect to 172.31.59.247, scheduling retry in 512.0 seconds: [Errno None] Tried connecting to [('172.31.59.247', 9042)]. Last error: timed out\n",
      "[WARNING] Failed to create connection pool for new host 172.31.59.248:\n",
      "Traceback (most recent call last):\n",
      "  File \"cassandra/cluster.py\", line 1787, in cassandra.cluster.Session.add_or_renew_pool.run_add_or_renew_pool (cassandra/cluster.c:30488)\n",
      "    new_pool = HostConnection(host, distance, self)\n",
      "  File \"cassandra/pool.py\", line 295, in cassandra.pool.HostConnection.__init__ (cassandra/pool.c:6160)\n",
      "    self._connection = session.cluster.connection_factory(host.address)\n",
      "  File \"cassandra/cluster.py\", line 789, in cassandra.cluster.Cluster.connection_factory (cassandra/cluster.c:9245)\n",
      "    return self.connection_class.factory(address, self.connect_timeout, *args, **kwargs)\n",
      "  File \"cassandra/connection.py\", line 306, in cassandra.connection.Connection.factory (cassandra/connection.c:5139)\n",
      "    conn = cls(host, *args, **kwargs)\n",
      "  File \"/usr/local/lib/python2.7/dist-packages/cassandra/io/asyncorereactor.py\", line 162, in __init__\n",
      "    self._connect_socket()\n",
      "  File \"cassandra/connection.py\", line 340, in cassandra.connection.Connection._connect_socket (cassandra/connection.c:6271)\n",
      "    raise socket.error(sockerr.errno, \"Tried connecting to %s. Last error: %s\" % ([a[4] for a in addresses], sockerr.strerror or sockerr))\n",
      "error: [Errno None] Tried connecting to [('172.31.59.248', 9042)]. Last error: timed out\n",
      "[WARNING] Error attempting to reconnect to 172.31.59.248, scheduling retry in 2.0 seconds: [Errno None] Tried connecting to [('172.31.59.248', 9042)]. Last error: timed out\n",
      "[WARNING] Error attempting to reconnect to 172.31.59.248, scheduling retry in 4.0 seconds: [Errno None] Tried connecting to [('172.31.59.248', 9042)]. Last error: timed out\n",
      "[WARNING] Error attempting to reconnect to 172.31.59.248, scheduling retry in 8.0 seconds: [Errno None] Tried connecting to [('172.31.59.248', 9042)]. Last error: timed out\n",
      "[WARNING] Error attempting to reconnect to 172.31.59.248, scheduling retry in 16.0 seconds: [Errno None] Tried connecting to [('172.31.59.248', 9042)]. Last error: timed out\n",
      "[WARNING] Error attempting to reconnect to 172.31.59.248, scheduling retry in 32.0 seconds: [Errno None] Tried connecting to [('172.31.59.248', 9042)]. Last error: timed out\n",
      "[WARNING] Error attempting to reconnect to 172.31.59.248, scheduling retry in 64.0 seconds: [Errno None] Tried connecting to [('172.31.59.248', 9042)]. Last error: timed out\n",
      "[WARNING] Error attempting to reconnect to 172.31.59.248, scheduling retry in 128.0 seconds: [Errno None] Tried connecting to [('172.31.59.248', 9042)]. Last error: timed out\n",
      "[WARNING] Error attempting to reconnect to 172.31.59.247, scheduling retry in 600.0 seconds: [Errno None] Tried connecting to [('172.31.59.247', 9042)]. Last error: timed out\n",
      "[WARNING] Error attempting to reconnect to 172.31.59.247, scheduling retry in 600.0 seconds: [Errno None] Tried connecting to [('172.31.59.247', 9042)]. Last error: timed out\n",
      "[WARNING] Error attempting to reconnect to 172.31.59.248, scheduling retry in 256.0 seconds: [Errno None] Tried connecting to [('172.31.59.248', 9042)]. Last error: timed out\n"
     ]
    }
   ],
   "source": [
    "from cassandra.query import tuple_factory\n",
    "session.row_factory = tuple_factory\n",
    "rows = session.execute(\"SELECT code, popularity FROM airportpopularity LIMIT 1000000\")\n",
    "import graphlab\n",
    "s = sorted(rows, key=lambda k: k[1], reverse=True)\n",
    "#print s\n",
    "sframe = graphlab.SFrame({'touple': s})\n",
    "sframe['popularity'] = sframe['touple'].apply(lambda x: x[1])\n",
    "sframe = sframe.add_row_number()\n",
    "sframe['rank'] = sframe['id'].apply(lambda x: x+1)\n",
    "\n",
    "sframe"
   ]
  },
  {
   "cell_type": "code",
   "execution_count": 9,
   "metadata": {
    "collapsed": true
   },
   "outputs": [],
   "source": [
    "import matplotlib.pyplot as plt\n",
    "%matplotlib inline"
   ]
  },
  {
   "cell_type": "code",
   "execution_count": 11,
   "metadata": {
    "collapsed": false
   },
   "outputs": [
    {
     "data": {
      "text/plain": [
       "<matplotlib.text.Text at 0x7fd5b42b8510>"
      ]
     },
     "execution_count": 11,
     "metadata": {},
     "output_type": "execute_result"
    },
    {
     "data": {
      "image/png": "[encoded data removed]",
      "text/plain": [
       "<matplotlib.figure.Figure at 0x7fd5b46a9290>"
      ]
     },
     "metadata": {},
     "output_type": "display_data"
    }
   ],
   "source": [
    "plt.loglog(sframe['rank'],sframe['popularity'],'.')\n",
    "plt.grid(True)\n",
    "plt.title('loglog')"
   ]
  },
  {
   "cell_type": "markdown",
   "metadata": {
    "collapsed": true
   },
   "source": [
    "# Power Law Distribution"
   ]
  },
  {
   "cell_type": "code",
   "execution_count": null,
   "metadata": {
    "collapsed": true
   },
   "outputs": [],
   "source": []
  }
 ],
 "metadata": {
  "kernelspec": {
   "display_name": "Python 2",
   "language": "python",
   "name": "python2"
  },
  "language_info": {
   "codemirror_mode": {
    "name": "ipython",
    "version": 2
   },
   "file_extension": ".py",
   "mimetype": "text/x-python",
   "name": "python",
   "nbconvert_exporter": "python",
   "pygments_lexer": "ipython2",
   "version": "2.7.6"
  }
 },
 "nbformat": 4,
 "nbformat_minor": 0
}
